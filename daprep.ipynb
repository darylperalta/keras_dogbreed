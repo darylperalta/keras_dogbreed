{
 "cells": [
  {
   "cell_type": "markdown",
   "metadata": {
    "_cell_guid": "f1f7c25c-bcbc-4821-bdba-6adc4fcf372c",
    "_uuid": "123fe7add5cf374838433d2a590e6274786e90a1"
   },
   "source": [
    "# Kaggle Dog breed\n",
    "Classify dog breed in Kaggle competition"
   ]
  },
  {
   "cell_type": "code",
   "execution_count": 1,
   "metadata": {
    "_cell_guid": "b3b3ac67-bb99-4b70-815b-5a18aa1653a3",
    "_uuid": "3f62c0bb82c59a0d01cfc524b5178c9a2ef2172d"
   },
   "outputs": [
    {
     "name": "stdout",
     "output_type": "stream",
     "text": [
      "labels.csv  sample_submission.csv  test  train\r\n"
     ]
    }
   ],
   "source": [
    "!ls ../input/"
   ]
  },
  {
   "cell_type": "code",
   "execution_count": 2,
   "metadata": {
    "_cell_guid": "dd350147-ce99-44df-8611-d7ae6f263b60",
    "_uuid": "6f15efbc97e36e0facc4086e2a3e032993f1f77a"
   },
   "outputs": [
    {
     "name": "stdout",
     "output_type": "stream",
     "text": [
      "Some classes with count:\n",
      "[['affenpinscher' '80']\n",
      " ['afghan_hound' '116']\n",
      " ['african_hunting_dog' '86']\n",
      " ['airedale' '107']\n",
      " ['american_staffordshire_terrier' '74']\n",
      " ['appenzeller' '78']\n",
      " ['australian_terrier' '102']\n",
      " ['basenji' '110']\n",
      " ['basset' '82']\n",
      " ['beagle' '105']]\n",
      "Number of class: 120\n"
     ]
    }
   ],
   "source": [
    "import numpy as np\n",
    "\n",
    "original_train_dir = '../input/train'\n",
    "original_test_dir = '../input/test'\n",
    "train_labels = np.loadtxt('../input/labels.csv', delimiter=',', dtype=str, skiprows=1)\n",
    "# Remove missing data, this image was missing on my dataset?\n",
    "# train_labels = train_labels[train_labels[:, 0] != '000bec180eb18c7604dcecc8fe0dba07']\n",
    "clazzes, counts = np.unique(train_labels[:, 1], return_counts=True)\n",
    "print(\"Some classes with count:\")\n",
    "print(np.asarray((clazzes, counts)).T[0:10])\n",
    "print(\"Number of class: %d\" % clazzes.size)"
   ]
  },
  {
   "cell_type": "markdown",
   "metadata": {
    "_cell_guid": "be7fc614-b3d4-433d-a129-99bbe7bd82ed",
    "_uuid": "4e18d30888434da18f4f6e75c0e4d68fbabee110"
   },
   "source": [
    "## Copy data\n",
    "Keras has `ImageDataGenerator` with `flow_from_directory` as a source to make data augmentation. Below code will copy image to separate folder according to class name, which will be fed to ImageGenerator."
   ]
  },
  {
   "cell_type": "code",
   "execution_count": 3,
   "metadata": {
    "_cell_guid": "31de5330-ff1f-40f8-975f-c6d3255a0977",
    "_uuid": "54e4d6b679bf912e792a27f3ffec607844cb6712",
    "collapsed": true
   },
   "outputs": [],
   "source": [
    "import os, shutil\n",
    "\n",
    "def mkdirIfNotExist(directory):\n",
    "    if not os.path.exists(directory):\n",
    "        os.mkdir(directory)\n",
    "    return directory\n",
    "\n",
    "base_dir = mkdirIfNotExist('../data_gen_9')\n",
    "train_dir = mkdirIfNotExist(os.path.join(base_dir, 'train'))\n",
    "validation_dir = mkdirIfNotExist(os.path.join(base_dir, 'validation'))\n",
    "test_dir = mkdirIfNotExist(os.path.join(base_dir, 'test'))\n",
    "for clazz in clazzes[:]:\n",
    "    mkdirIfNotExist(os.path.join(train_dir, clazz))\n",
    "    mkdirIfNotExist(os.path.join(validation_dir, clazz))"
   ]
  },
  {
   "cell_type": "code",
   "execution_count": 4,
   "metadata": {
    "_cell_guid": "75833aa2-5c38-42b9-b725-9b054e8c1499",
    "_uuid": "7c383a5f280796c482f9b40bf0d960e1a888c6a0"
   },
   "outputs": [
    {
     "name": "stdout",
     "output_type": "stream",
     "text": [
      "Copied 73 to ../data_gen_9/train/affenpinscher\n",
      "Copied 7 to ../data_gen_9/validation/affenpinscher\n",
      "Copied 105 to ../data_gen_9/train/afghan_hound\n",
      "Copied 11 to ../data_gen_9/validation/afghan_hound\n",
      "Copied 78 to ../data_gen_9/train/african_hunting_dog\n",
      "Copied 8 to ../data_gen_9/validation/african_hunting_dog\n",
      "Copied 97 to ../data_gen_9/train/airedale\n",
      "Copied 10 to ../data_gen_9/validation/airedale\n",
      "Copied 67 to ../data_gen_9/train/american_staffordshire_terrier\n",
      "Copied 7 to ../data_gen_9/validation/american_staffordshire_terrier\n",
      "Copied 71 to ../data_gen_9/train/appenzeller\n",
      "Copied 7 to ../data_gen_9/validation/appenzeller\n",
      "Copied 92 to ../data_gen_9/train/australian_terrier\n",
      "Copied 10 to ../data_gen_9/validation/australian_terrier\n",
      "Copied 100 to ../data_gen_9/train/basenji\n",
      "Copied 10 to ../data_gen_9/validation/basenji\n",
      "Copied 74 to ../data_gen_9/train/basset\n",
      "Copied 8 to ../data_gen_9/validation/basset\n",
      "Copied 95 to ../data_gen_9/train/beagle\n",
      "Copied 10 to ../data_gen_9/validation/beagle\n",
      "Copied 81 to ../data_gen_9/train/bedlington_terrier\n",
      "Copied 8 to ../data_gen_9/validation/bedlington_terrier\n",
      "Copied 103 to ../data_gen_9/train/bernese_mountain_dog\n",
      "Copied 11 to ../data_gen_9/validation/bernese_mountain_dog\n",
      "Copied 70 to ../data_gen_9/train/black-and-tan_coonhound\n",
      "Copied 7 to ../data_gen_9/validation/black-and-tan_coonhound\n",
      "Copied 92 to ../data_gen_9/train/blenheim_spaniel\n",
      "Copied 10 to ../data_gen_9/validation/blenheim_spaniel\n",
      "Copied 77 to ../data_gen_9/train/bloodhound\n",
      "Copied 8 to ../data_gen_9/validation/bloodhound\n",
      "Copied 77 to ../data_gen_9/train/bluetick\n",
      "Copied 8 to ../data_gen_9/validation/bluetick\n",
      "Copied 65 to ../data_gen_9/train/border_collie\n",
      "Copied 7 to ../data_gen_9/validation/border_collie\n",
      "Copied 82 to ../data_gen_9/train/border_terrier\n",
      "Copied 9 to ../data_gen_9/validation/border_terrier\n",
      "Copied 68 to ../data_gen_9/train/borzoi\n",
      "Copied 7 to ../data_gen_9/validation/borzoi\n",
      "Copied 79 to ../data_gen_9/train/boston_bull\n",
      "Copied 8 to ../data_gen_9/validation/boston_bull\n",
      "Copied 78 to ../data_gen_9/train/bouvier_des_flandres\n",
      "Copied 8 to ../data_gen_9/validation/bouvier_des_flandres\n",
      "Copied 68 to ../data_gen_9/train/boxer\n",
      "Copied 7 to ../data_gen_9/validation/boxer\n",
      "Copied 61 to ../data_gen_9/train/brabancon_griffon\n",
      "Copied 6 to ../data_gen_9/validation/brabancon_griffon\n",
      "Copied 60 to ../data_gen_9/train/briard\n",
      "Copied 6 to ../data_gen_9/validation/briard\n",
      "Copied 66 to ../data_gen_9/train/brittany_spaniel\n",
      "Copied 7 to ../data_gen_9/validation/brittany_spaniel\n",
      "Copied 68 to ../data_gen_9/train/bull_mastiff\n",
      "Copied 7 to ../data_gen_9/validation/bull_mastiff\n",
      "Copied 96 to ../data_gen_9/train/cairn\n",
      "Copied 10 to ../data_gen_9/validation/cairn\n",
      "Copied 69 to ../data_gen_9/train/cardigan\n",
      "Copied 7 to ../data_gen_9/validation/cardigan\n",
      "Copied 75 to ../data_gen_9/train/chesapeake_bay_retriever\n",
      "Copied 8 to ../data_gen_9/validation/chesapeake_bay_retriever\n",
      "Copied 64 to ../data_gen_9/train/chihuahua\n",
      "Copied 7 to ../data_gen_9/validation/chihuahua\n",
      "Copied 84 to ../data_gen_9/train/chow\n",
      "Copied 9 to ../data_gen_9/validation/chow\n",
      "Copied 73 to ../data_gen_9/train/clumber\n",
      "Copied 7 to ../data_gen_9/validation/clumber\n",
      "Copied 67 to ../data_gen_9/train/cocker_spaniel\n",
      "Copied 7 to ../data_gen_9/validation/cocker_spaniel\n",
      "Copied 79 to ../data_gen_9/train/collie\n",
      "Copied 8 to ../data_gen_9/validation/collie\n",
      "Copied 65 to ../data_gen_9/train/curly-coated_retriever\n",
      "Copied 7 to ../data_gen_9/validation/curly-coated_retriever\n",
      "Copied 81 to ../data_gen_9/train/dandie_dinmont\n",
      "Copied 8 to ../data_gen_9/validation/dandie_dinmont\n",
      "Copied 69 to ../data_gen_9/train/dhole\n",
      "Copied 7 to ../data_gen_9/validation/dhole\n",
      "Copied 73 to ../data_gen_9/train/dingo\n",
      "Copied 7 to ../data_gen_9/validation/dingo\n",
      "Copied 67 to ../data_gen_9/train/doberman\n",
      "Copied 7 to ../data_gen_9/validation/doberman\n",
      "Copied 78 to ../data_gen_9/train/english_foxhound\n",
      "Copied 8 to ../data_gen_9/validation/english_foxhound\n",
      "Copied 75 to ../data_gen_9/train/english_setter\n",
      "Copied 8 to ../data_gen_9/validation/english_setter\n",
      "Copied 68 to ../data_gen_9/train/english_springer\n",
      "Copied 7 to ../data_gen_9/validation/english_springer\n",
      "Copied 104 to ../data_gen_9/train/entlebucher\n",
      "Copied 11 to ../data_gen_9/validation/entlebucher\n",
      "Copied 60 to ../data_gen_9/train/eskimo_dog\n",
      "Copied 6 to ../data_gen_9/validation/eskimo_dog\n",
      "Copied 65 to ../data_gen_9/train/flat-coated_retriever\n",
      "Copied 7 to ../data_gen_9/validation/flat-coated_retriever\n",
      "Copied 64 to ../data_gen_9/train/french_bulldog\n",
      "Copied 6 to ../data_gen_9/validation/french_bulldog\n",
      "Copied 63 to ../data_gen_9/train/german_shepherd\n",
      "Copied 6 to ../data_gen_9/validation/german_shepherd\n",
      "Copied 68 to ../data_gen_9/train/german_short-haired_pointer\n",
      "Copied 7 to ../data_gen_9/validation/german_short-haired_pointer\n",
      "Copied 63 to ../data_gen_9/train/giant_schnauzer\n",
      "Copied 6 to ../data_gen_9/validation/giant_schnauzer\n",
      "Copied 61 to ../data_gen_9/train/golden_retriever\n",
      "Copied 6 to ../data_gen_9/validation/golden_retriever\n",
      "Copied 73 to ../data_gen_9/train/gordon_setter\n",
      "Copied 8 to ../data_gen_9/validation/gordon_setter\n",
      "Copied 68 to ../data_gen_9/train/great_dane\n",
      "Copied 7 to ../data_gen_9/validation/great_dane\n",
      "Copied 100 to ../data_gen_9/train/great_pyrenees\n",
      "Copied 11 to ../data_gen_9/validation/great_pyrenees\n",
      "Copied 74 to ../data_gen_9/train/greater_swiss_mountain_dog\n",
      "Copied 8 to ../data_gen_9/validation/greater_swiss_mountain_dog\n",
      "Copied 74 to ../data_gen_9/train/groenendael\n",
      "Copied 8 to ../data_gen_9/validation/groenendael\n",
      "Copied 82 to ../data_gen_9/train/ibizan_hound\n",
      "Copied 9 to ../data_gen_9/validation/ibizan_hound\n",
      "Copied 80 to ../data_gen_9/train/irish_setter\n",
      "Copied 8 to ../data_gen_9/validation/irish_setter\n",
      "Copied 74 to ../data_gen_9/train/irish_terrier\n",
      "Copied 8 to ../data_gen_9/validation/irish_terrier\n",
      "Copied 71 to ../data_gen_9/train/irish_water_spaniel\n",
      "Copied 7 to ../data_gen_9/validation/irish_water_spaniel\n",
      "Copied 91 to ../data_gen_9/train/irish_wolfhound\n",
      "Copied 10 to ../data_gen_9/validation/irish_wolfhound\n",
      "Copied 83 to ../data_gen_9/train/italian_greyhound\n",
      "Copied 9 to ../data_gen_9/validation/italian_greyhound\n",
      "Copied 95 to ../data_gen_9/train/japanese_spaniel\n",
      "Copied 10 to ../data_gen_9/validation/japanese_spaniel\n",
      "Copied 73 to ../data_gen_9/train/keeshond\n",
      "Copied 8 to ../data_gen_9/validation/keeshond\n",
      "Copied 78 to ../data_gen_9/train/kelpie\n",
      "Copied 8 to ../data_gen_9/validation/kelpie\n",
      "Copied 74 to ../data_gen_9/train/kerry_blue_terrier\n",
      "Copied 8 to ../data_gen_9/validation/kerry_blue_terrier\n",
      "Copied 61 to ../data_gen_9/train/komondor\n",
      "Copied 6 to ../data_gen_9/validation/komondor\n",
      "Copied 64 to ../data_gen_9/train/kuvasz\n",
      "Copied 7 to ../data_gen_9/validation/kuvasz\n",
      "Copied 76 to ../data_gen_9/train/labrador_retriever\n",
      "Copied 8 to ../data_gen_9/validation/labrador_retriever\n",
      "Copied 90 to ../data_gen_9/train/lakeland_terrier\n",
      "Copied 9 to ../data_gen_9/validation/lakeland_terrier\n",
      "Copied 96 to ../data_gen_9/train/leonberg\n",
      "Copied 10 to ../data_gen_9/validation/leonberg\n",
      "Copied 82 to ../data_gen_9/train/lhasa\n",
      "Copied 8 to ../data_gen_9/validation/lhasa\n",
      "Copied 73 to ../data_gen_9/train/malamute\n",
      "Copied 8 to ../data_gen_9/validation/malamute\n",
      "Copied 66 to ../data_gen_9/train/malinois\n",
      "Copied 7 to ../data_gen_9/validation/malinois\n",
      "Copied 106 to ../data_gen_9/train/maltese_dog\n",
      "Copied 11 to ../data_gen_9/validation/maltese_dog\n",
      "Copied 73 to ../data_gen_9/train/mexican_hairless\n",
      "Copied 7 to ../data_gen_9/validation/mexican_hairless\n",
      "Copied 92 to ../data_gen_9/train/miniature_pinscher\n",
      "Copied 10 to ../data_gen_9/validation/miniature_pinscher\n",
      "Copied 72 to ../data_gen_9/train/miniature_poodle\n",
      "Copied 7 to ../data_gen_9/validation/miniature_poodle\n",
      "Copied 71 to ../data_gen_9/train/miniature_schnauzer\n",
      "Copied 7 to ../data_gen_9/validation/miniature_schnauzer\n",
      "Copied 82 to ../data_gen_9/train/newfoundland\n",
      "Copied 9 to ../data_gen_9/validation/newfoundland\n",
      "Copied 75 to ../data_gen_9/train/norfolk_terrier\n",
      "Copied 8 to ../data_gen_9/validation/norfolk_terrier\n",
      "Copied 86 to ../data_gen_9/train/norwegian_elkhound\n",
      "Copied 9 to ../data_gen_9/validation/norwegian_elkhound\n",
      "Copied 71 to ../data_gen_9/train/norwich_terrier\n",
      "Copied 7 to ../data_gen_9/validation/norwich_terrier\n",
      "Copied 79 to ../data_gen_9/train/old_english_sheepdog\n",
      "Copied 8 to ../data_gen_9/validation/old_english_sheepdog\n"
     ]
    },
    {
     "name": "stdout",
     "output_type": "stream",
     "text": [
      "Copied 63 to ../data_gen_9/train/otterhound\n",
      "Copied 6 to ../data_gen_9/validation/otterhound\n",
      "Copied 87 to ../data_gen_9/train/papillon\n",
      "Copied 9 to ../data_gen_9/validation/papillon\n",
      "Copied 68 to ../data_gen_9/train/pekinese\n",
      "Copied 7 to ../data_gen_9/validation/pekinese\n",
      "Copied 83 to ../data_gen_9/train/pembroke\n",
      "Copied 9 to ../data_gen_9/validation/pembroke\n",
      "Copied 100 to ../data_gen_9/train/pomeranian\n",
      "Copied 11 to ../data_gen_9/validation/pomeranian\n",
      "Copied 85 to ../data_gen_9/train/pug\n",
      "Copied 9 to ../data_gen_9/validation/pug\n",
      "Copied 65 to ../data_gen_9/train/redbone\n",
      "Copied 7 to ../data_gen_9/validation/redbone\n",
      "Copied 80 to ../data_gen_9/train/rhodesian_ridgeback\n",
      "Copied 8 to ../data_gen_9/validation/rhodesian_ridgeback\n",
      "Copied 69 to ../data_gen_9/train/rottweiler\n",
      "Copied 7 to ../data_gen_9/validation/rottweiler\n",
      "Copied 76 to ../data_gen_9/train/saint_bernard\n",
      "Copied 8 to ../data_gen_9/validation/saint_bernard\n",
      "Copied 90 to ../data_gen_9/train/saluki\n",
      "Copied 9 to ../data_gen_9/validation/saluki\n",
      "Copied 99 to ../data_gen_9/train/samoyed\n",
      "Copied 10 to ../data_gen_9/validation/samoyed\n",
      "Copied 78 to ../data_gen_9/train/schipperke\n",
      "Copied 8 to ../data_gen_9/validation/schipperke\n",
      "Copied 74 to ../data_gen_9/train/scotch_terrier\n",
      "Copied 8 to ../data_gen_9/validation/scotch_terrier\n",
      "Copied 114 to ../data_gen_9/train/scottish_deerhound\n",
      "Copied 12 to ../data_gen_9/validation/scottish_deerhound\n",
      "Copied 80 to ../data_gen_9/train/sealyham_terrier\n",
      "Copied 8 to ../data_gen_9/validation/sealyham_terrier\n",
      "Copied 69 to ../data_gen_9/train/shetland_sheepdog\n",
      "Copied 7 to ../data_gen_9/validation/shetland_sheepdog\n",
      "Copied 101 to ../data_gen_9/train/shih-tzu\n",
      "Copied 11 to ../data_gen_9/validation/shih-tzu\n",
      "Copied 86 to ../data_gen_9/train/siberian_husky\n",
      "Copied 9 to ../data_gen_9/validation/siberian_husky\n",
      "Copied 82 to ../data_gen_9/train/silky_terrier\n",
      "Copied 8 to ../data_gen_9/validation/silky_terrier\n",
      "Copied 64 to ../data_gen_9/train/soft-coated_wheaten_terrier\n",
      "Copied 7 to ../data_gen_9/validation/soft-coated_wheaten_terrier\n",
      "Copied 72 to ../data_gen_9/train/staffordshire_bullterrier\n",
      "Copied 7 to ../data_gen_9/validation/staffordshire_bullterrier\n",
      "Copied 72 to ../data_gen_9/train/standard_poodle\n",
      "Copied 7 to ../data_gen_9/validation/standard_poodle\n",
      "Copied 65 to ../data_gen_9/train/standard_schnauzer\n",
      "Copied 7 to ../data_gen_9/validation/standard_schnauzer\n",
      "Copied 71 to ../data_gen_9/train/sussex_spaniel\n",
      "Copied 7 to ../data_gen_9/validation/sussex_spaniel\n",
      "Copied 63 to ../data_gen_9/train/tibetan_mastiff\n",
      "Copied 6 to ../data_gen_9/validation/tibetan_mastiff\n",
      "Copied 97 to ../data_gen_9/train/tibetan_terrier\n",
      "Copied 10 to ../data_gen_9/validation/tibetan_terrier\n",
      "Copied 73 to ../data_gen_9/train/toy_poodle\n",
      "Copied 7 to ../data_gen_9/validation/toy_poodle\n",
      "Copied 72 to ../data_gen_9/train/toy_terrier\n",
      "Copied 7 to ../data_gen_9/validation/toy_terrier\n",
      "Copied 64 to ../data_gen_9/train/vizsla\n",
      "Copied 6 to ../data_gen_9/validation/vizsla\n",
      "Copied 63 to ../data_gen_9/train/walker_hound\n",
      "Copied 6 to ../data_gen_9/validation/walker_hound\n",
      "Copied 77 to ../data_gen_9/train/weimaraner\n",
      "Copied 8 to ../data_gen_9/validation/weimaraner\n",
      "Copied 72 to ../data_gen_9/train/welsh_springer_spaniel\n",
      "Copied 7 to ../data_gen_9/validation/welsh_springer_spaniel\n",
      "Copied 73 to ../data_gen_9/train/west_highland_white_terrier\n",
      "Copied 8 to ../data_gen_9/validation/west_highland_white_terrier\n",
      "Copied 86 to ../data_gen_9/train/whippet\n",
      "Copied 9 to ../data_gen_9/validation/whippet\n",
      "Copied 74 to ../data_gen_9/train/wire-haired_fox_terrier\n",
      "Copied 8 to ../data_gen_9/validation/wire-haired_fox_terrier\n",
      "Copied 74 to ../data_gen_9/train/yorkshire_terrier\n",
      "Copied 8 to ../data_gen_9/validation/yorkshire_terrier\n"
     ]
    }
   ],
   "source": [
    "def copyIfNotExist(fnames, src_dir, dst_dir):\n",
    "    nCopied = 0\n",
    "    for fname in fnames:\n",
    "        src = os.path.join(src_dir, fname)\n",
    "        dst = os.path.join(dst_dir, fname)\n",
    "        if not os.path.exists(dst):\n",
    "            shutil.copyfile(src, dst)\n",
    "            nCopied += 1\n",
    "    if nCopied > 0:\n",
    "        print(\"Copied %d to %s\" % (nCopied, dst_dir))\n",
    "\n",
    "# This will split available labeled data to train-validation sets\n",
    "#train_ratio = 0.7\n",
    "train_ratio = 0.9\n",
    "for clazz in clazzes[:]:\n",
    "    fnames = train_labels[train_labels[:, 1] == clazz][:,0]\n",
    "    fnames = ['{}.jpg'.format(name) for name in fnames]\n",
    "    idx = int(len(fnames)*(1-train_ratio))\n",
    "    val_fnames = fnames[:idx]\n",
    "    train_fnames = fnames[idx:]\n",
    "    train_class_dir = os.path.join(train_dir, clazz)\n",
    "    validation_class_dir = os.path.join(validation_dir, clazz)\n",
    "    copyIfNotExist(train_fnames, original_train_dir, train_class_dir)\n",
    "    copyIfNotExist(val_fnames, original_train_dir, validation_class_dir)"
   ]
  },
  {
   "cell_type": "markdown",
   "metadata": {
    "_cell_guid": "1853c311-7b71-4d2b-87dd-52999fb731e5",
    "_uuid": "42ea25dac2ddfb1c88210e050558580b5f39de87"
   },
   "source": [
    "## Data augmentation\n",
    "I found out that using input image size as 299x299 is important for using pre-trained model with Xception. I tried with lower rescale size (249x249) and data is kind of bottleneck in 75% of accuracy. 299x299 give accuracy about 82%"
   ]
  },
  {
   "cell_type": "code",
   "execution_count": null,
   "metadata": {
    "_cell_guid": "02a8bb8d-b14c-4a4c-a365-c76f615f2626",
    "_uuid": "c7f21db8612539a20fe3f81a9106d8a35add9b34",
    "collapsed": true
   },
   "outputs": [],
   "source": [
    "from keras.preprocessing.image import ImageDataGenerator\n",
    "img_width ,img_height = 299, 299\n",
    "batch_size = 16\n",
    "\n",
    "train_datagen = ImageDataGenerator(\n",
    "    rescale=1./255,\n",
    "    rotation_range=40,\n",
    "    width_shift_range=0.2,\n",
    "    height_shift_range=0.2,\n",
    "    horizontal_flip=True,\n",
    "    shear_range=0.1,\n",
    "    zoom_range=0.1\n",
    ")\n",
    "test_datagen = ImageDataGenerator(rescale=1./255)\n",
    "\n",
    "train_generator = train_datagen.flow_from_directory(\n",
    "        train_dir,\n",
    "        target_size=(img_width, img_height),\n",
    "        batch_size=batch_size,\n",
    "        class_mode='categorical')\n",
    "total_train_image_count = train_generator.samples\n",
    "class_count = train_generator.num_class\n",
    "\n",
    "validation_generator = test_datagen.flow_from_directory(\n",
    "        validation_dir,\n",
    "        target_size=(img_width, img_height),\n",
    "        batch_size=batch_size,\n",
    "        class_mode='categorical',\n",
    "        shuffle=False)\n",
    "total_val_image_count = train_generator.samples"
   ]
  },
  {
   "cell_type": "markdown",
   "metadata": {
    "_cell_guid": "e42613c7-51d1-426c-aa24-e542d2cb405a",
    "_uuid": "506797efb59be129479bb24cc2ba58b95df6f9a9"
   },
   "source": [
    "Display some images after doing augmentation"
   ]
  },
  {
   "cell_type": "code",
   "execution_count": null,
   "metadata": {
    "_cell_guid": "735c7b55-d82c-4234-b19c-87259b96af4d",
    "_uuid": "7266dae38b4a0ed6567b183e050e22ffee1d289f",
    "collapsed": true
   },
   "outputs": [],
   "source": [
    "from keras.preprocessing import image\n",
    "import matplotlib.pyplot as plt\n",
    "\n",
    "train_first_dir = os.path.join(train_dir, clazzes[0])\n",
    "fnames = [os.path.join(train_first_dir, fname) for fname in os.listdir(train_first_dir)]\n",
    "\n",
    "img_path = fnames[3]\n",
    "img = image.load_img(img_path, target_size=(img_width, img_height))\n",
    "x = image.img_to_array(img)\n",
    "x = x.reshape((1,) + x.shape)\n",
    "\n",
    "i = 0\n",
    "for batch in train_datagen.flow(x, batch_size=1):\n",
    "    plt.figure(i)\n",
    "    imgplot = plt.imshow(image.array_to_img(batch[0]))\n",
    "    i += 1\n",
    "    if i % 4 == 0:\n",
    "        break\n",
    "\n",
    "plt.show()"
   ]
  },
  {
   "cell_type": "markdown",
   "metadata": {
    "_cell_guid": "292311c7-e4a2-4d95-b816-cc4becd0de50",
    "_uuid": "eb65e4eb0b7d00b66153bf73a725206d62d24793"
   },
   "source": [
    "## Extract feature with pretrained model\n",
    "Kaggle doesn't allow to download model from outside. I copied Xception model as dataset and copy to `.keras/models`, where Keras can find and use it."
   ]
  },
  {
   "cell_type": "code",
   "execution_count": null,
   "metadata": {
    "_cell_guid": "57aa2bc8-c341-4f46-8f18-50402d36b6df",
    "_uuid": "0759dd1dac24bfa27520c3fff6c9459a13e4fb6c",
    "collapsed": true
   },
   "outputs": [],
   "source": [
    "cache_dir = os.path.expanduser(os.path.join('~', '.keras'))\n",
    "if not os.path.exists(cache_dir):\n",
    "    os.mkdir(cache_dir)\n",
    "models_dir = os.path.join(cache_dir, 'models')\n",
    "if not os.path.exists(models_dir):\n",
    "    os.mkdir(models_dir)"
   ]
  },
  {
   "cell_type": "code",
   "execution_count": null,
   "metadata": {
    "_cell_guid": "4f4a6461-7eab-46bd-8b70-a5452a153364",
    "_uuid": "a6d9b7eb60d275ba87711ca1e4db3145674ae097",
    "collapsed": true
   },
   "outputs": [],
   "source": [
    "!cp ../input/keras-pretrained-models/* ~/.keras/models/"
   ]
  },
  {
   "cell_type": "code",
   "execution_count": null,
   "metadata": {
    "_cell_guid": "73a49191-6a4f-43d1-81ee-eb28fba5b09c",
    "_uuid": "524446ce79813f659be25c8156daaad1151e78e7",
    "collapsed": true
   },
   "outputs": [],
   "source": [
    "!ls ~/.keras/models"
   ]
  },
  {
   "cell_type": "code",
   "execution_count": null,
   "metadata": {
    "_cell_guid": "49cc9f5c-a443-4ffa-9ab9-e9f0eaecf2b2",
    "_uuid": "73d6887805a9891a4741f7238c24c9589663acd4",
    "collapsed": true
   },
   "outputs": [],
   "source": [
    "from keras.applications.xception import Xception\n",
    "\n",
    "conv_base = Xception(weights='imagenet',\n",
    "                     include_top=False,\n",
    "                     input_shape=(img_width, img_height, 3))\n",
    "conv_base.trainable = False"
   ]
  },
  {
   "cell_type": "markdown",
   "metadata": {
    "_cell_guid": "bd2851e9-61dd-402a-8cd3-708553d19f4c",
    "_uuid": "d982c13fbf39fe34d713d6a7e5fc256a55df85a9"
   },
   "source": [
    "## Define Neural Net\n",
    "Define neural net with customized last layer."
   ]
  },
  {
   "cell_type": "code",
   "execution_count": null,
   "metadata": {
    "_cell_guid": "61ae534e-9ccc-4cc5-b4b7-0e9f642465b4",
    "_uuid": "b330c325cd44c80542f1470a6172fc832593ec3e",
    "collapsed": true
   },
   "outputs": [],
   "source": [
    "from keras import layers, models, regularizers, optimizers\n",
    "from keras.models import Sequential,  Model\n",
    "from keras.layers import Flatten, Dense, Dropout\n",
    "\n",
    "model = models.Sequential()\n",
    "model.add(conv_base)\n",
    "model.add(layers.Flatten())\n",
    "model.add(layers.Dense(512, activation='relu'))\n",
    "model.add(layers.Dense(class_count, activation='sigmoid'))\n",
    "\n",
    "model.compile(loss='categorical_crossentropy',\n",
    "              optimizer=optimizers.SGD(lr=1e-4, momentum=0.90),\n",
    "              metrics=['acc'])\n",
    "model.summary()"
   ]
  },
  {
   "cell_type": "markdown",
   "metadata": {
    "_cell_guid": "4ee40583-bf87-4056-b83a-334724a7e286",
    "_uuid": "794c5bc428b0edbfb8d77a7d0ace6a0f1c600805"
   },
   "source": [
    "## Train model\n",
    "Only run with limit data due to resource constraint in Kaggle server."
   ]
  },
  {
   "cell_type": "code",
   "execution_count": null,
   "metadata": {
    "_cell_guid": "ce54b26c-312f-496c-a348-3a156a8c0bfc",
    "_uuid": "fbb922d0898d5dd12d8e4e79d37abcbac38eb0a1",
    "collapsed": true,
    "scrolled": true
   },
   "outputs": [],
   "source": [
    "from time import strftime\n",
    "\n",
    "history = model.fit_generator(\n",
    "      train_generator,\n",
    "##       steps_per_epoch=int(total_train_image_count / batch_size),\n",
    "      steps_per_epoch=1,\n",
    "      epochs=1,\n",
    "      validation_data=validation_generator,\n",
    "##      validation_steps=int(total_val_image_count / batch_size)\n",
    "      validation_steps=1\n",
    ")\n",
    "\n",
    "# time_str = strftime(\"%Y%m%d_%H%M%S\")\n",
    "# model.save('dog_breed_pretrain_xception_299_{}.h5py'.format(time_str))"
   ]
  },
  {
   "cell_type": "markdown",
   "metadata": {
    "_cell_guid": "2e30bb18-f6ca-44cb-84ff-c5ea0b40d22f",
    "_uuid": "59cb1d985a7db7d49488461ba0302320ca5e0116"
   },
   "source": [
    "## Evaluation"
   ]
  },
  {
   "cell_type": "code",
   "execution_count": null,
   "metadata": {
    "_cell_guid": "015b7b2d-3d02-4933-bc09-0fe8d4d248c0",
    "_uuid": "945166b31c7d2519c197659ee7a759daed98d48a",
    "collapsed": true
   },
   "outputs": [],
   "source": [
    "import matplotlib.pyplot as plt\n",
    "\n",
    "acc = history.history['acc']\n",
    "val_acc = history.history['val_acc']\n",
    "loss = history.history['loss']\n",
    "val_loss = history.history['val_loss']\n",
    "\n",
    "epochs = range(len(acc))\n",
    "\n",
    "plt.plot(epochs, acc, 'bo')\n",
    "plt.plot(epochs, val_acc, 'b')\n",
    "plt.title('Training and validation accuracy')\n",
    "\n",
    "plt.figure()\n",
    "\n",
    "plt.plot(epochs, loss, 'bo')\n",
    "plt.plot(epochs, val_loss, 'b')\n",
    "plt.title('Training and validation loss')\n",
    "\n",
    "plt.show()"
   ]
  },
  {
   "cell_type": "markdown",
   "metadata": {
    "_cell_guid": "5d839a1f-edde-4dcb-88d7-732b7195a80e",
    "_uuid": "6fac506a53c09abdcc0c5de3224bb093167cecd1"
   },
   "source": [
    "## Make prediction\n",
    "Make prediction and create submit file. But it is slow on Kaggle server so I disabled them."
   ]
  },
  {
   "cell_type": "code",
   "execution_count": null,
   "metadata": {
    "_cell_guid": "1ce13473-e6b8-45a3-9985-c0f46e1f4a70",
    "_uuid": "b965aa24e979b16a6bbc65e32a0aca3b96238905",
    "collapsed": true
   },
   "outputs": [],
   "source": [
    "from keras.preprocessing import image\n",
    "import numpy as np\n",
    "\n",
    "def load_test_image(fpath):\n",
    "    img = image.load_img(fpath, target_size=(img_width, img_height))\n",
    "    x = image.img_to_array(img)\n",
    "    return x\n",
    "\n",
    "test_labels = np.loadtxt('../input/dog-breed-identification/sample_submission.csv', delimiter=',', dtype=str, skiprows=1)\n",
    "test_images = []\n",
    "test_names = test_labels[:,0]\n",
    "# Slow on Kaggle server\n",
    "#for test_name in test_names:\n",
    "#    fname = '{}.jpg'.format(test_name)\n",
    "#    data = load_test_image(os.path.join(original_test_dir, fname))\n",
    "#    test_images.append(data)\n",
    "\n",
    "test_images = np.asarray(test_images)\n",
    "test_images = test_images.astype('float32')\n",
    "test_images /= 255\n",
    "print(test_images.shape)"
   ]
  },
  {
   "cell_type": "code",
   "execution_count": null,
   "metadata": {
    "_cell_guid": "cf4b2495-1bc5-4be9-904d-280c601abba7",
    "_uuid": "95ed070f69e17aecbcbc9dd74b8889342e3bc1d9",
    "collapsed": true
   },
   "outputs": [],
   "source": [
    "# Slow on Kaggle server\n",
    "# predictions = model.predict(test_images, verbose=1)"
   ]
  },
  {
   "cell_type": "markdown",
   "metadata": {
    "_cell_guid": "f53bc864-8a2b-4d2d-9c7b-b57aec406458",
    "_uuid": "3add8fa4e71f7b37cf4d023f3b8978122bafd6a3"
   },
   "source": [
    "## Prepare submit data"
   ]
  },
  {
   "cell_type": "code",
   "execution_count": null,
   "metadata": {
    "_cell_guid": "d8eedf99-e407-4523-8c99-73613d4c787e",
    "_uuid": "0c4a51faacb4e4b6668aec7753f4ac2aff47dd7d",
    "collapsed": true
   },
   "outputs": [],
   "source": [
    "import pandas as pd\n",
    "class_indices = sorted([ [k,v] for k, v in train_generator.class_indices.items() ], key=lambda c : c[1])\n",
    "columns = [b[0] for b in class_indices]\n",
    "# No prediction, no\n",
    "# df = pd.DataFrame(predictions,columns=columns)\n",
    "# df = df.assign(id = test_names)\n",
    "# print(df.head())\n",
    "\n",
    "# df.to_csv(\"submit.csv\", index=False)"
   ]
  },
  {
   "cell_type": "code",
   "execution_count": null,
   "metadata": {
    "_cell_guid": "a9901b62-da5f-4699-8470-891c15ee6c7f",
    "_uuid": "109e0ec4817c8f6f7f33eb49bf42c5510f9937b9",
    "collapsed": true
   },
   "outputs": [],
   "source": []
  }
 ],
 "metadata": {
  "kernelspec": {
   "display_name": "Python 3",
   "language": "python",
   "name": "python3"
  },
  "language_info": {
   "codemirror_mode": {
    "name": "ipython",
    "version": 3
   },
   "file_extension": ".py",
   "mimetype": "text/x-python",
   "name": "python",
   "nbconvert_exporter": "python",
   "pygments_lexer": "ipython3",
   "version": "3.5.4"
  }
 },
 "nbformat": 4,
 "nbformat_minor": 1
}
