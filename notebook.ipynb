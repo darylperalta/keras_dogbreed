{
 "cells": [
  {
   "cell_type": "code",
   "execution_count": 1,
   "metadata": {
    "_cell_guid": "8a7bff8d-c95a-4cfb-8c38-14ab989f769b",
    "_uuid": "4da5a3e7db32799ca0108576e469157094d23111"
   },
   "outputs": [
    {
     "name": "stderr",
     "output_type": "stream",
     "text": [
      "Using TensorFlow backend.\n"
     ]
    },
    {
     "name": "stdout",
     "output_type": "stream",
     "text": [
      "labels.csv\n",
      "sample_submission.csv\n",
      "test\n",
      "train\n",
      "\n"
     ]
    }
   ],
   "source": [
    "# This Python 3 environment comes with many helpful analytics libraries installed\n",
    "# It is defined by the kaggle/python docker image: https://github.com/kaggle/docker-python\n",
    "# For example, here's several helpful packages to load in \n",
    "import numpy as np # linear algebra\n",
    "import pandas as pd # data processing, CSV file I/O (e.g. pd.read_csv)\n",
    "import keras\n",
    "from keras.applications.vgg19 import VGG19\n",
    "from keras.models import Model\n",
    "from keras.layers import Dense, Dropout, Flatten\n",
    "\n",
    "import os\n",
    "from tqdm import tqdm\n",
    "from sklearn import preprocessing\n",
    "from sklearn.model_selection import train_test_split\n",
    "import cv2\n",
    "# Input data files are available in the \"../input/\" directory.\n",
    "# For example, running this (by clicking run or pressing Shift+Enter) will list the files in the input directory\n",
    "\n",
    "from subprocess import check_output\n",
    "print(check_output([\"ls\", \"../input\"]).decode(\"utf8\"))\n",
    "\n",
    "# Any results you write to the current directory are saved as output."
   ]
  },
  {
   "cell_type": "markdown",
   "metadata": {
    "_cell_guid": "0b8fddbc-447f-4083-88c4-9bd5f811253d",
    "_uuid": "7c64ad63b95b36df5a2223b4c499c1caad9c73ee"
   },
   "source": [
    "First we will read in the csv's so we can see some more information on the filenames and breeds"
   ]
  },
  {
   "cell_type": "code",
   "execution_count": null,
   "metadata": {
    "_cell_guid": "bcbeef91-f00e-4a68-b1b8-25e206027bb2",
    "_uuid": "18e9091e9a3d851fb0ce796a3b537ffb7f47c874",
    "collapsed": true
   },
   "outputs": [],
   "source": [
    "#df_train = pd.read_csv('../input/labels.csv')\n",
    "#df_test = pd.read_csv('../input/sample_submission.csv')"
   ]
  },
  {
   "cell_type": "code",
   "execution_count": null,
   "metadata": {
    "_cell_guid": "6abe20dc-a411-4334-ad66-2526d99c7f63",
    "_uuid": "0ba75a32f91650bc75440443ab3d11c35e44e1c9"
   },
   "outputs": [],
   "source": [
    "#df_train.head(10)"
   ]
  },
  {
   "cell_type": "markdown",
   "metadata": {
    "_cell_guid": "31789e79-005d-4219-82f7-b757f6595adc",
    "_uuid": "860b860b8f98c9fe381645044628cc7492eaa6fd"
   },
   "source": [
    "We can see that the breed needs to be one-hot encoded for the final submission, so we will now do this."
   ]
  },
  {
   "cell_type": "code",
   "execution_count": null,
   "metadata": {
    "_cell_guid": "1ba5da72-9d82-404d-aa25-ce9739a45775",
    "_uuid": "7fbb53109a3d08bedb1abac074f8186bdea991ac"
   },
   "outputs": [],
   "source": [
    "'''\n",
    "targets_series = pd.Series(df_train['breed'])\n",
    "print(targets_series.shape)\n",
    "one_hot = pd.get_dummies(targets_series, sparse = True)\n",
    "print(one_hot.shape)\n",
    "'''"
   ]
  },
  {
   "cell_type": "code",
   "execution_count": null,
   "metadata": {
    "_cell_guid": "23fdc238-9f15-41d0-be8b-1913e6b1dd0f",
    "_uuid": "07c3bf3155c29a76d6f42af9b2135bbbaca87c92",
    "collapsed": true
   },
   "outputs": [],
   "source": [
    "#one_hot_labels = np.asarray(one_hot)"
   ]
  },
  {
   "cell_type": "markdown",
   "metadata": {
    "_cell_guid": "421885e6-97a5-4a43-bdf5-6b60cfc0b3d3",
    "_uuid": "d59fb275c2e30a410c9c8af8489f38138b1513ac"
   },
   "source": [
    "Next we will read in all of the images for test and train, using a for loop through the values of the csv files. I have also set an im_size variable which sets the size for the image to be re-sized to,  90x90 px, you should play with this number to see how it affects accuracy."
   ]
  },
  {
   "cell_type": "code",
   "execution_count": null,
   "metadata": {
    "_cell_guid": "0e89e3ca-7c9e-4f76-aaf8-8c5267e3a415",
    "_uuid": "7b47e6524b0fcf5ccb9a237cbdc8d444ff215dfb",
    "collapsed": true
   },
   "outputs": [],
   "source": [
    "#im_size = 90\n",
    "#im_size = 224"
   ]
  },
  {
   "cell_type": "code",
   "execution_count": null,
   "metadata": {
    "_cell_guid": "cc632b19-d7c8-4c78-b5bf-4f0313603c11",
    "_uuid": "e7f00cc68bbb5b9b15ee3373361bab01287476ce",
    "collapsed": true
   },
   "outputs": [],
   "source": [
    "'''\n",
    "x_train = []\n",
    "y_train = []\n",
    "x_test = []\n",
    "'''"
   ]
  },
  {
   "cell_type": "code",
   "execution_count": null,
   "metadata": {
    "scrolled": true
   },
   "outputs": [],
   "source": [
    "'''\n",
    "batch= []\n",
    "temp_img = cv2.imread('../input/train/{}.jpg'.format('fff43b07992508bc822f33d8ffd902ae'))\n",
    "temp_img_res = cv2.resize(temp_img, (im_size,im_size))\n",
    "batch.append(temp_img_res)\n",
    "batch_raw = np.array(batch, np.float32)/255\n",
    "'''\n",
    "fn = pd.Series(df_train['id'])\n",
    "print(fn.shape[0])\n",
    "'''\n",
    "print(temp_img.shape)\n",
    "print(fn.shape[0])\n",
    "print(fn[0])\n",
    "print(temp_img_res.shape)\n",
    "print(batch_raw.shape)\n",
    "'''"
   ]
  },
  {
   "cell_type": "code",
   "execution_count": 2,
   "metadata": {},
   "outputs": [
    {
     "name": "stdout",
     "output_type": "stream",
     "text": [
      "319\n"
     ]
    },
    {
     "data": {
      "text/plain": [
       "\"    \\ndf_train = pd.read_csv('../input/labels.csv')\\ndf_test = pd.read_csv('../input/sample_submission.csv')\\ntargets_series = pd.Series(df_train['breed'])\\none_hot = pd.get_dummies(targets_series, sparse = True)\\none_hot_labels = np.asarray(one_hot)\\n\\nfn = pd.Series(df_train['id'])\\n\\nx_train = []\\ny_train = []\\nx_test = []\\n    \\nfor i in range(batch_size):\\n    index = np.random.choice(len(features),1)\\n    img = cv2.imread('../input/test/{}.jpg'.format(fn[index]))\\n    x_train.append(cv2.resize(img,(image_size,image_size)))\\n    label = one_hot_labels[index]\\n    y_train.append(label)\\ny_train_raw = np.array(y_train, np.uint8)\\nx_train_raw = np.array(x_train, np.float32) / 255.\\n\\nprint(y_train_raw.shape)\\nprint(x_train_raw)\\n\""
      ]
     },
     "execution_count": 2,
     "metadata": {},
     "output_type": "execute_result"
    }
   ],
   "source": [
    "from random import randint\n",
    "im_size = 90\n",
    "batch_size = 32\n",
    "\n",
    "\n",
    "num_samples = 10222\n",
    "\n",
    "num_class = 120\n",
    "steps_per_epoch = num_samples//batch_size\n",
    "\n",
    "print(steps_per_epoch)\n",
    "epochs = 2\n",
    "'''\n",
    "def data_gen(features, labels, batch_size, image_size):\n",
    "    batch_features = np.zeros((batch_size, image_size,image_size,3), dtype=32)\n",
    "    batch_labels = np.zeros((batch_size,1), dtype=uint8)\n",
    "    \n",
    "    while True:\n",
    "        for i in range(batch_size):\n",
    "            index = np.random.choice(len(features),1)\n",
    "        #batch_features[i] = some_processing(features[index])\n",
    "            img = cv2.imread('../input/test/{}.jpg'.format(features[index]))\n",
    "            img_resized = cv2.resize(img, (im_size,im_size))\n",
    "            batch_features[i] = img_resized/255.\n",
    "            batch_labels[i] = labels[index]\n",
    "                         \n",
    "    yield batch_features, batch_labels\n",
    "    \n",
    "'''\n",
    "\n",
    "def data_gen(batch_size, image_size):\n",
    "    \n",
    "    df_train = pd.read_csv('../input/labels.csv')\n",
    "    df_test = pd.read_csv('../input/sample_submission.csv')\n",
    "    targets_series = pd.Series(df_train['breed'])\n",
    "    one_hot = pd.get_dummies(targets_series, sparse = True)\n",
    "    one_hot_labels = np.asarray(one_hot)\n",
    "\n",
    "\n",
    "    \n",
    "    fn = pd.Series(df_train['id'])\n",
    "\n",
    "    \n",
    "    x_train = []\n",
    "    y_train = []\n",
    "    x_test = []\n",
    "    \n",
    "   \n",
    "    while True:\n",
    "        for i in range(batch_size):\n",
    "            #index = np.random.choice(fn.shape[0],1)\n",
    "            index = randint(0,fn.shape[0]-1)\n",
    "            img = cv2.imread('../input/train/{}.jpg'.format(fn[index]))\n",
    "            x_train.append(cv2.resize(img,(image_size,image_size)))\n",
    "            label = one_hot_labels[index]\n",
    "            y_train.append(label)\n",
    "        y_train_raw = np.array(y_train, np.uint8)\n",
    "        x_train_raw = np.array(x_train, np.float32) / 255.\n",
    "        print(i)\n",
    "        yield x_train_raw, y_train_raw\n",
    "\n",
    "\n",
    "'''    \n",
    "df_train = pd.read_csv('../input/labels.csv')\n",
    "df_test = pd.read_csv('../input/sample_submission.csv')\n",
    "targets_series = pd.Series(df_train['breed'])\n",
    "one_hot = pd.get_dummies(targets_series, sparse = True)\n",
    "one_hot_labels = np.asarray(one_hot)\n",
    "\n",
    "fn = pd.Series(df_train['id'])\n",
    "\n",
    "x_train = []\n",
    "y_train = []\n",
    "x_test = []\n",
    "    \n",
    "for i in range(batch_size):\n",
    "    index = np.random.choice(len(features),1)\n",
    "    img = cv2.imread('../input/test/{}.jpg'.format(fn[index]))\n",
    "    x_train.append(cv2.resize(img,(image_size,image_size)))\n",
    "    label = one_hot_labels[index]\n",
    "    y_train.append(label)\n",
    "y_train_raw = np.array(y_train, np.uint8)\n",
    "x_train_raw = np.array(x_train, np.float32) / 255.\n",
    "\n",
    "print(y_train_raw.shape)\n",
    "print(x_train_raw)\n",
    "'''"
   ]
  },
  {
   "cell_type": "code",
   "execution_count": null,
   "metadata": {},
   "outputs": [],
   "source": [
    "from random import randint\n",
    "image_size = im_size\n",
    "\n",
    "df_train = pd.read_csv('../input/labels.csv')\n",
    "df_test = pd.read_csv('../input/sample_submission.csv')\n",
    "targets_series = pd.Series(df_train['breed'])\n",
    "one_hot = pd.get_dummies(targets_series, sparse = True)\n",
    "one_hot_labels = np.asarray(one_hot)\n",
    "\n",
    "fn = pd.Series(df_train['id'])\n",
    "\n",
    "x_train = []\n",
    "y_train = []\n",
    "x_test = []\n",
    "    \n",
    "print(fn[0])\n",
    "print(image_size)\n",
    "    \n",
    "for i in range(batch_size):\n",
    "    #index = np.random.choice(fn.shape[0],1)\n",
    "    index= randint(0,fn.shape[0]-1)\n",
    "    print(index)\n",
    "    print(fn[index])\n",
    "    img = cv2.imread('../input/train/{}.jpg'.format(fn[index]))\n",
    "    #cv2.imshow('image',img)\n",
    "    #print(img.shape)\n",
    "    x_train.append(cv2.resize(img,(image_size,image_size)))\n",
    "    label = one_hot_labels[index]\n",
    "    y_train.append(label)\n",
    "y_train_raw = np.array(y_train, np.uint8)\n",
    "x_train_raw = np.array(x_train, np.float32) / 255.\n",
    "\n",
    "print(y_train_raw.shape)\n",
    "print(x_train_raw)\n",
    "#extract filename\n"
   ]
  },
  {
   "cell_type": "code",
   "execution_count": null,
   "metadata": {
    "_cell_guid": "98aab483-199c-451b-80a9-a9c1cf3d02be",
    "_uuid": "1f099a6a4d6b16ed3202a91d5376b77579664d04"
   },
   "outputs": [],
   "source": [
    "#i = 0 \n",
    "for f, breed in tqdm(df_train.values):\n",
    "    print(f)\n",
    "'''\n",
    "for f, breed in tqdm(df_train.values):\n",
    "    img = cv2.imread('../input/train/{}.jpg'.format(f))\n",
    "    label = one_hot_labels[i]\n",
    "    x_train.append(cv2.resize(img, (im_size, im_size)))\n",
    "    #x_train.append(img)\n",
    "    y_train.append(label)\n",
    "    i += 1\n",
    "'''"
   ]
  },
  {
   "cell_type": "code",
   "execution_count": 7,
   "metadata": {
    "_cell_guid": "ceaf5e6d-058d-495f-80d0-55b02870a936",
    "_uuid": "bdee8455dd9f5f6232e57a83d19f06527b259611"
   },
   "outputs": [
    {
     "ename": "NameError",
     "evalue": "name 'df_test' is not defined",
     "output_type": "error",
     "traceback": [
      "\u001b[0;31m---------------------------------------------------------------------------\u001b[0m",
      "\u001b[0;31mNameError\u001b[0m                                 Traceback (most recent call last)",
      "\u001b[0;32m<ipython-input-7-6f225efb5357>\u001b[0m in \u001b[0;36m<module>\u001b[0;34m()\u001b[0m\n\u001b[0;32m----> 1\u001b[0;31m \u001b[0;32mfor\u001b[0m \u001b[0mf\u001b[0m \u001b[0;32min\u001b[0m \u001b[0mtqdm\u001b[0m\u001b[0;34m(\u001b[0m\u001b[0mdf_test\u001b[0m\u001b[0;34m[\u001b[0m\u001b[0;34m'id'\u001b[0m\u001b[0;34m]\u001b[0m\u001b[0;34m.\u001b[0m\u001b[0mvalues\u001b[0m\u001b[0;34m)\u001b[0m\u001b[0;34m:\u001b[0m\u001b[0;34m\u001b[0m\u001b[0m\n\u001b[0m\u001b[1;32m      2\u001b[0m     \u001b[0mimg\u001b[0m \u001b[0;34m=\u001b[0m \u001b[0mcv2\u001b[0m\u001b[0;34m.\u001b[0m\u001b[0mimread\u001b[0m\u001b[0;34m(\u001b[0m\u001b[0;34m'../input/test/{}.jpg'\u001b[0m\u001b[0;34m.\u001b[0m\u001b[0mformat\u001b[0m\u001b[0;34m(\u001b[0m\u001b[0mf\u001b[0m\u001b[0;34m)\u001b[0m\u001b[0;34m)\u001b[0m\u001b[0;34m\u001b[0m\u001b[0m\n\u001b[1;32m      3\u001b[0m     \u001b[0mx_test\u001b[0m\u001b[0;34m.\u001b[0m\u001b[0mappend\u001b[0m\u001b[0;34m(\u001b[0m\u001b[0mcv2\u001b[0m\u001b[0;34m.\u001b[0m\u001b[0mresize\u001b[0m\u001b[0;34m(\u001b[0m\u001b[0mimg\u001b[0m\u001b[0;34m,\u001b[0m \u001b[0;34m(\u001b[0m\u001b[0mim_size\u001b[0m\u001b[0;34m,\u001b[0m \u001b[0mim_size\u001b[0m\u001b[0;34m)\u001b[0m\u001b[0;34m)\u001b[0m\u001b[0;34m)\u001b[0m\u001b[0;34m\u001b[0m\u001b[0m\n\u001b[1;32m      4\u001b[0m     \u001b[0;31m#x_test.append(img)\u001b[0m\u001b[0;34m\u001b[0m\u001b[0;34m\u001b[0m\u001b[0m\n",
      "\u001b[0;31mNameError\u001b[0m: name 'df_test' is not defined"
     ]
    }
   ],
   "source": [
    "for f in tqdm(df_test['id'].values):\n",
    "    img = cv2.imread('../input/test/{}.jpg'.format(f))\n",
    "    x_test.append(cv2.resize(img, (im_size, im_size)))\n",
    "    #x_test.append(img)\n"
   ]
  },
  {
   "cell_type": "code",
   "execution_count": null,
   "metadata": {
    "_cell_guid": "d7dccd3d-9369-4b7c-b589-97f4bd299cd2",
    "_uuid": "29804cc313366d5ac155dead1c37fabbc036a4ad",
    "collapsed": true
   },
   "outputs": [],
   "source": [
    "'''\n",
    "y_train_raw = np.array(y_train, np.uint8)\n",
    "x_train_raw = np.array(x_train, np.float32) / 255.\n",
    "x_test  = np.array(x_test, np.float32) / 255.\n",
    "'''"
   ]
  },
  {
   "cell_type": "code",
   "execution_count": null,
   "metadata": {},
   "outputs": [],
   "source": [
    "#print(x_train.shape)\n",
    "#print(x_train)"
   ]
  },
  {
   "cell_type": "markdown",
   "metadata": {
    "_cell_guid": "ad4bb94f-2464-4685-9b44-32f5502e224a",
    "_uuid": "0e64cd331abd85c517cf870d41b2440b200a54f1"
   },
   "source": [
    "We check the shape of the outputs to make sure everyting went as expected."
   ]
  },
  {
   "cell_type": "code",
   "execution_count": null,
   "metadata": {
    "_cell_guid": "b26f825e-8c02-43d9-9d1d-3e0092d69d26",
    "_uuid": "a5dddeebe7556cecf31da047693710179ce29f98"
   },
   "outputs": [],
   "source": [
    "#print(x_train_raw.shape)\n",
    "#print(y_train_raw.shape)\n",
    "#print(x_test.shape)"
   ]
  },
  {
   "cell_type": "markdown",
   "metadata": {
    "_cell_guid": "3c6de3f8-d801-4cde-8877-db415b61da8e",
    "_uuid": "70495031a1e6789f8784b4a0c1c2919df4896722"
   },
   "source": [
    "\n",
    "We can see above that there are 120 different breeds. We can put this in a num_class variable below that can then be used when creating the CNN model."
   ]
  },
  {
   "cell_type": "code",
   "execution_count": null,
   "metadata": {
    "_cell_guid": "60707a5f-0689-4ecf-a0df-3e3e9c76e076",
    "_uuid": "00fdfb9bf52e9f7a8030d88dfab823262c0f1dc2"
   },
   "outputs": [],
   "source": [
    "num_class = y_train_raw.shape[1]"
   ]
  },
  {
   "cell_type": "markdown",
   "metadata": {
    "_cell_guid": "c4b45b4a-de62-44c8-ace7-b81c371e9eb5",
    "_uuid": "267bbc11b7bc95dd622bdcee0df0c1547ab419dc"
   },
   "source": [
    "It is important to create a validation set so that you can gauge the performance of your model on independent data, unseen to the model in training. We do this by splitting the current training set (x_train_raw) and the corresponding labels (y_train_raw) so that we set aside 30 % of the data at random and put these in validation sets (X_valid and Y_valid).\n",
    "\n",
    "* This split needs to be improved so that it contains images from every class, with 120 separate classes some can not be represented and so the validation score is not informative. "
   ]
  },
  {
   "cell_type": "code",
   "execution_count": null,
   "metadata": {
    "_cell_guid": "fd2dec22-e057-433b-81ba-f1d8a7580b8e",
    "_uuid": "116f3d718f6bf256eb0a2992c344e5f52f9be181",
    "collapsed": true
   },
   "outputs": [],
   "source": [
    "X_train, X_valid, Y_train, Y_valid = train_test_split(x_train_raw, y_train_raw, test_size=0.3, random_state=1)"
   ]
  },
  {
   "cell_type": "markdown",
   "metadata": {
    "_cell_guid": "ea14cf49-c458-4505-ae3c-3d487c413541",
    "_uuid": "0b593bba735e6136dae235b9d02a2ff95c916f9a"
   },
   "source": [
    "Now we build the CNN architecture. Here we are using a pre-trained model VGG19 which has already been trained to identify many different dog breeds (as well as a lot of other objects from the imagenet dataset see here for more information: http://image-net.org/about-overview). Unfortunately it doesn't seem possible to downlod the weights from within this kernel so make sure you set the weights argument to 'imagenet' and not None, as it currently is below.\n",
    "\n",
    "We then remove the final layer and instead replace it with a single dense layer with the number of nodes corresponding to the number of breed classes we have (120)."
   ]
  },
  {
   "cell_type": "code",
   "execution_count": 3,
   "metadata": {
    "_cell_guid": "decf1fdf-5a24-41cd-b9b3-d49825efec82",
    "_uuid": "0946091bb67a488a05f9e39e8dac432b485eb70a",
    "scrolled": true
   },
   "outputs": [
    {
     "name": "stdout",
     "output_type": "stream",
     "text": [
      "_________________________________________________________________\n",
      "Layer (type)                 Output Shape              Param #   \n",
      "=================================================================\n",
      "input_1 (InputLayer)         (None, 90, 90, 3)         0         \n",
      "_________________________________________________________________\n",
      "block1_conv1 (Conv2D)        (None, 90, 90, 64)        1792      \n",
      "_________________________________________________________________\n",
      "block1_conv2 (Conv2D)        (None, 90, 90, 64)        36928     \n",
      "_________________________________________________________________\n",
      "block1_pool (MaxPooling2D)   (None, 45, 45, 64)        0         \n",
      "_________________________________________________________________\n",
      "block2_conv1 (Conv2D)        (None, 45, 45, 128)       73856     \n",
      "_________________________________________________________________\n",
      "block2_conv2 (Conv2D)        (None, 45, 45, 128)       147584    \n",
      "_________________________________________________________________\n",
      "block2_pool (MaxPooling2D)   (None, 22, 22, 128)       0         \n",
      "_________________________________________________________________\n",
      "block3_conv1 (Conv2D)        (None, 22, 22, 256)       295168    \n",
      "_________________________________________________________________\n",
      "block3_conv2 (Conv2D)        (None, 22, 22, 256)       590080    \n",
      "_________________________________________________________________\n",
      "block3_conv3 (Conv2D)        (None, 22, 22, 256)       590080    \n",
      "_________________________________________________________________\n",
      "block3_conv4 (Conv2D)        (None, 22, 22, 256)       590080    \n",
      "_________________________________________________________________\n",
      "block3_pool (MaxPooling2D)   (None, 11, 11, 256)       0         \n",
      "_________________________________________________________________\n",
      "block4_conv1 (Conv2D)        (None, 11, 11, 512)       1180160   \n",
      "_________________________________________________________________\n",
      "block4_conv2 (Conv2D)        (None, 11, 11, 512)       2359808   \n",
      "_________________________________________________________________\n",
      "block4_conv3 (Conv2D)        (None, 11, 11, 512)       2359808   \n",
      "_________________________________________________________________\n",
      "block4_conv4 (Conv2D)        (None, 11, 11, 512)       2359808   \n",
      "_________________________________________________________________\n",
      "block4_pool (MaxPooling2D)   (None, 5, 5, 512)         0         \n",
      "_________________________________________________________________\n",
      "block5_conv1 (Conv2D)        (None, 5, 5, 512)         2359808   \n",
      "_________________________________________________________________\n",
      "block5_conv2 (Conv2D)        (None, 5, 5, 512)         2359808   \n",
      "_________________________________________________________________\n",
      "block5_conv3 (Conv2D)        (None, 5, 5, 512)         2359808   \n",
      "_________________________________________________________________\n",
      "block5_conv4 (Conv2D)        (None, 5, 5, 512)         2359808   \n",
      "_________________________________________________________________\n",
      "block5_pool (MaxPooling2D)   (None, 2, 2, 512)         0         \n",
      "_________________________________________________________________\n",
      "flatten_1 (Flatten)          (None, 2048)              0         \n",
      "_________________________________________________________________\n",
      "dense_1 (Dense)              (None, 120)               245880    \n",
      "=================================================================\n",
      "Total params: 20,270,264\n",
      "Trainable params: 245,880\n",
      "Non-trainable params: 20,024,384\n",
      "_________________________________________________________________\n"
     ]
    }
   ],
   "source": [
    "# Create the base pre-trained model\n",
    "# Can't download weights in the kernel\n",
    "base_model = VGG19(#weights='imagenet',\n",
    "    weights = 'imagenet', include_top=False, input_shape=(im_size, im_size, 3))\n",
    "\n",
    "# Add a new top layer\n",
    "x = base_model.output\n",
    "x = Flatten()(x)\n",
    "predictions = Dense(num_class, activation='softmax')(x)\n",
    "\n",
    "# This is the model we will train\n",
    "model = Model(inputs=base_model.input, outputs=predictions)\n",
    "\n",
    "# First: train only the top layers (which were randomly initialized)\n",
    "for layer in base_model.layers:\n",
    "    layer.trainable = False\n",
    "\n",
    "model.compile(loss='categorical_crossentropy', \n",
    "              optimizer='adam', \n",
    "              metrics=['accuracy'])\n",
    "\n",
    "callbacks_list = [keras.callbacks.EarlyStopping(monitor='val_acc', patience=3, verbose=1)]\n",
    "model.summary()"
   ]
  },
  {
   "cell_type": "code",
   "execution_count": null,
   "metadata": {
    "_cell_guid": "2580ad4a-8c2a-4b7c-bef1-e39293b0b02c",
    "_uuid": "5183ff91d3f3179aeeff320d81299a3cf1f2a852",
    "collapsed": true
   },
   "outputs": [],
   "source": [
    "#model.fit(X_train, Y_train, epochs=10, validation_data=(X_valid, Y_valid), verbose=1)"
   ]
  },
  {
   "cell_type": "code",
   "execution_count": 4,
   "metadata": {},
   "outputs": [
    {
     "name": "stdout",
     "output_type": "stream",
     "text": [
      "Epoch 1/2\n",
      "31\n",
      "31\n",
      "31\n",
      "31\n",
      "31\n",
      "1/2 [==============>...............] - ETA: 3s - loss: 5.1605 - acc: 0.0000e+0031\n",
      "31\n",
      "2/2 [==============================] - 3s - loss: 5.0448 - acc: 0.0000e+00     \n",
      "Epoch 2/2\n",
      "31\n",
      "31\n",
      "31\n",
      "31\n",
      "1/2 [==============>...............] - ETA: 1s - loss: 4.7683 - acc: 0.010431\n",
      "31\n",
      "31\n",
      "2/2 [==============================] - 2s - loss: 4.6833 - acc: 0.0131     \n"
     ]
    },
    {
     "data": {
      "text/plain": [
       "<keras.callbacks.History at 0x7f913fb12e48>"
      ]
     },
     "execution_count": 4,
     "metadata": {},
     "output_type": "execute_result"
    }
   ],
   "source": [
    "model.fit_generator(data_gen( batch_size=batch_size, image_size = im_size),\n",
    "                    steps_per_epoch=2,\n",
    "                    epochs=2, verbose =1)\n"
   ]
  },
  {
   "cell_type": "markdown",
   "metadata": {
    "_cell_guid": "9c419742-1c6a-40c6-a26a-782836ee3641",
    "_uuid": "25ed4a3f9ce837128e3baa3e91bb0aee10e72ab8"
   },
   "source": [
    "Remember, accuracy is low here because we are not taking advantage of the pre-trained weights as they cannot be downloaded in the kernel. This means we are training the wights from scratch and I we have only run 1 epoch due to the hardware constraints in the kernel.\n",
    "\n",
    "Next we will make our predictions."
   ]
  },
  {
   "cell_type": "code",
   "execution_count": 5,
   "metadata": {
    "_cell_guid": "f72763e1-68b6-4e54-9b80-ff0f4f94aa28",
    "_uuid": "e8a63ce4e324f3e011b3de7fc459301337d1b8d0"
   },
   "outputs": [
    {
     "ename": "NameError",
     "evalue": "name 'x_test' is not defined",
     "output_type": "error",
     "traceback": [
      "\u001b[0;31m---------------------------------------------------------------------------\u001b[0m",
      "\u001b[0;31mNameError\u001b[0m                                 Traceback (most recent call last)",
      "\u001b[0;32m<ipython-input-5-191ac356a1b5>\u001b[0m in \u001b[0;36m<module>\u001b[0;34m()\u001b[0m\n\u001b[0;32m----> 1\u001b[0;31m \u001b[0mpreds\u001b[0m \u001b[0;34m=\u001b[0m \u001b[0mmodel\u001b[0m\u001b[0;34m.\u001b[0m\u001b[0mpredict\u001b[0m\u001b[0;34m(\u001b[0m\u001b[0mx_test\u001b[0m\u001b[0;34m,\u001b[0m \u001b[0mverbose\u001b[0m\u001b[0;34m=\u001b[0m\u001b[0;36m1\u001b[0m\u001b[0;34m)\u001b[0m\u001b[0;34m\u001b[0m\u001b[0m\n\u001b[0m",
      "\u001b[0;31mNameError\u001b[0m: name 'x_test' is not defined"
     ]
    }
   ],
   "source": [
    "preds = model.predict(x_test, verbose=1)"
   ]
  },
  {
   "cell_type": "code",
   "execution_count": 6,
   "metadata": {
    "_cell_guid": "0457a19d-0e26-4619-a3c8-78c71e7d41e6",
    "_uuid": "626b762d81d28ff77032658092d5bd9523b186b1"
   },
   "outputs": [
    {
     "ename": "NameError",
     "evalue": "name 'preds' is not defined",
     "output_type": "error",
     "traceback": [
      "\u001b[0;31m---------------------------------------------------------------------------\u001b[0m",
      "\u001b[0;31mNameError\u001b[0m                                 Traceback (most recent call last)",
      "\u001b[0;32m<ipython-input-6-542dc0653ab7>\u001b[0m in \u001b[0;36m<module>\u001b[0;34m()\u001b[0m\n\u001b[0;32m----> 1\u001b[0;31m \u001b[0msub\u001b[0m \u001b[0;34m=\u001b[0m \u001b[0mpd\u001b[0m\u001b[0;34m.\u001b[0m\u001b[0mDataFrame\u001b[0m\u001b[0;34m(\u001b[0m\u001b[0mpreds\u001b[0m\u001b[0;34m)\u001b[0m\u001b[0;34m\u001b[0m\u001b[0m\n\u001b[0m\u001b[1;32m      2\u001b[0m \u001b[0;31m# Set column names to those generated by the one-hot encoding earlier\u001b[0m\u001b[0;34m\u001b[0m\u001b[0;34m\u001b[0m\u001b[0m\n\u001b[1;32m      3\u001b[0m \u001b[0mcol_names\u001b[0m \u001b[0;34m=\u001b[0m \u001b[0mone_hot\u001b[0m\u001b[0;34m.\u001b[0m\u001b[0mcolumns\u001b[0m\u001b[0;34m.\u001b[0m\u001b[0mvalues\u001b[0m\u001b[0;34m\u001b[0m\u001b[0m\n\u001b[1;32m      4\u001b[0m \u001b[0msub\u001b[0m\u001b[0;34m.\u001b[0m\u001b[0mcolumns\u001b[0m \u001b[0;34m=\u001b[0m \u001b[0mcol_names\u001b[0m\u001b[0;34m\u001b[0m\u001b[0m\n\u001b[1;32m      5\u001b[0m \u001b[0;31m# Insert the column id from the sample_submission at the start of the data frame\u001b[0m\u001b[0;34m\u001b[0m\u001b[0;34m\u001b[0m\u001b[0m\n",
      "\u001b[0;31mNameError\u001b[0m: name 'preds' is not defined"
     ]
    }
   ],
   "source": [
    "sub = pd.DataFrame(preds)\n",
    "# Set column names to those generated by the one-hot encoding earlier\n",
    "col_names = one_hot.columns.values\n",
    "sub.columns = col_names\n",
    "# Insert the column id from the sample_submission at the start of the data frame\n",
    "sub.insert(0, 'id', df_test['id'])\n",
    "sub.head(10358)\n",
    "df_test.to_csv('pred_vgg.csv', index=None)"
   ]
  },
  {
   "cell_type": "code",
   "execution_count": null,
   "metadata": {
    "_cell_guid": "a4ed0f81-8675-4a10-8b19-2d3ef191afe2",
    "_uuid": "b72af806cbbdea33edd7f73d24dbe9b9cbaae805",
    "collapsed": true
   },
   "outputs": [],
   "source": []
  }
 ],
 "metadata": {
  "kernelspec": {
   "display_name": "Python 3",
   "language": "python",
   "name": "python3"
  },
  "language_info": {
   "codemirror_mode": {
    "name": "ipython",
    "version": 3
   },
   "file_extension": ".py",
   "mimetype": "text/x-python",
   "name": "python",
   "nbconvert_exporter": "python",
   "pygments_lexer": "ipython3",
   "version": "3.5.4"
  }
 },
 "nbformat": 4,
 "nbformat_minor": 1
}
